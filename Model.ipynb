{
 "cells": [
  {
   "cell_type": "markdown",
   "metadata": {},
   "source": [
    "# A Hierarchical Bayesian Regression Model\n",
    "## A meta-analysis of experimental studies of an education intervention \n",
    "\n",
    "\n",
    "## Milad Kharratzadeh"
   ]
  },
  {
   "cell_type": "markdown",
   "metadata": {
    "collapsed": true
   },
   "source": [
    "We consider a model with varying slopes, varying intercepts, and individual-level and group-level predictors. We motivate this model for the meta-analysis of experimental studies of an education intervention (e.g., a new coaching program). Assume that the studies were done over $N$ students in $J$ different schools. For each student, a measure of improvement, $y_n$, was achieved (e.g., the score improvment in a test compared to a pre-treatment test). For each student, we have $P$ predictors, ${\\bf x}_n$, which could include the socio-economic status of the student, number of study hours, pre-treatment test score, parent's education level, etc. The first element of the predictor vector is 1 (allowing for intercept). We first pose a within-group model of how the individual-level predictors affect the measure of improvement:\n",
    "\n",
    "$$y_n  \\sim   \\text{N} ({\\bf x}_n^T\\boldsymbol{\\beta}_{g[n]}, \\sigma^2), \\qquad n=1, \\ldots, N,$$\n",
    "\n",
    "where $g[n]$ is the group (i.e., school) of the $n$th student. Therefore, we assume that the the coefficient vectors, $\\boldsymbol{\\beta}_i$, vary across schools. Next, we characterize this variation by using a multi-variate Normal distribution: \n",
    "\n",
    "\\begin{eqnarray}\n",
    "\\boldsymbol{\\beta}_j & \\sim &\\text{MVN} ({\\bf u}_j^T \\boldsymbol{\\gamma}, \\boldsymbol{\\Sigma}), \\qquad j=1, \\ldots, J,\n",
    "\\end{eqnarray}\n",
    "\n",
    "where ${\\bf u}_j$ are the school-level predictors (e.g., size of classrooms or historical performance) , and $\\boldsymbol{\\gamma}$ is the group-level coefficient matrix. We assign a weakly informative prior, $\\text{N}(0,5)$, on the elements of $\\boldsymbol{\\gamma}$. The covariance matrix is decomposed into a scale and a correlation matrix as follows:\n",
    "\n",
    "\\begin{eqnarray}\n",
    "\\boldsymbol{\\Sigma} & = & \\text{diag}(\\boldsymbol{\\tau}) \\ \\boldsymbol{\\Omega} \\  \\text{diag}(\\boldsymbol{\\tau}), \n",
    "\\end{eqnarray}\n",
    "\n",
    "where $\\boldsymbol{\\tau}$ are scale coefficients and $\\boldsymbol{\\Omega}$ is the correlation matrix with the following priors:\n",
    "\n",
    "\\begin{eqnarray}\n",
    "\\boldsymbol{\\tau}_i & \\sim & \\text{Cauchy} (0, 2.5), \\quad \\boldsymbol{\\tau}_i>0, \\qquad {weakly \\ informative \\ prior}, \\\\\n",
    "\\boldsymbol{\\Omega} & \\sim & \\text{LKJcorr}(2),\n",
    "\\end{eqnarray}\n",
    "\n",
    "The LKJ prior is for parameter $\\nu$ is proportional to $|\\text{det}(\\boldsymbol{\\Omega})|^{\\nu-1}$.  As $\\nu$ increases, the prior increasingly concentrates around the unit correlation matrix (i.e., favors less correlation among the components of $\\boldsymbol{\\beta}_i$ ). In Stan, the LKJ prior is applied through the Cholesky decomposition of the correlation matrix."
   ]
  },
  {
   "cell_type": "markdown",
   "metadata": {},
   "source": [
    "## Generating Simulated Data\n",
    "\n",
    "In this notebook, we use simulated data for showcasing how Stan can be used to fit a model to the data and how we can analyse the fit of the model. In the R code below, we generate the simulated data. We assume that we have 20 schools, each with 50 students. "
   ]
  },
  {
   "cell_type": "code",
   "execution_count": 41,
   "metadata": {
    "collapsed": false
   },
   "outputs": [],
   "source": [
    "library(mgcv)\n",
    "### Generating Simulated Data:\n",
    "J <- 20                 # Number of groups\n",
    "Q <- 4                  # Number of group-level predictors\n",
    "N <- 1000               # Number of individuals\n",
    "P <- 4                  # Number of individual-level predictors\n",
    "g <- rep(1:J, each=N/J) # Group memberships\n",
    "sigma <- 5              # Observation error\n",
    "set.seed(123456789)     # Setting the random seed for reproducability\n",
    "X <- matrix(runif(N*P, min = 0, max = 2), nrow=N)   # Individual predictors\n",
    "X[,1] <- 1   # Individual-level intercept\n",
    "U <- matrix(runif(J*Q, min = 0, max = 5), nrow=J)   # Group predictors\n",
    "U[,1] <- 1   # Group-level intercept\n",
    "Beta <- matrix(NA, J, P) # Individual-level coefficients (sampled later) \n",
    "gamma <- matrix(rnorm(Q*P, mean = 0, sd = 5), nrow=Q) # Group-level coefficients\n",
    "tau <- seq(from = 1, to = 4, length.out = P)   # Prior scales\n",
    "Omega <- matrix(0.2,P,P) + diag(0.8,P,P)       # Prior correlation matrix\n",
    "Sigma <- diag(tau) %*% Omega %*% diag(tau)     # Covariance matrix\n",
    "Beta <- rmvn(J, U %*% gamma, Sigma)            # Sampling individual-level coefficients\n",
    "Y <- rnorm(N,rowSums(X * Beta[g,]), sigma)     # Sampling responses"
   ]
  },
  {
   "cell_type": "markdown",
   "metadata": {},
   "source": [
    "After generating the data, we fit the model using Stan. The Stan code for implementing the above model, with comments, is as follows:"
   ]
  },
  {
   "cell_type": "code",
   "execution_count": 43,
   "metadata": {
    "collapsed": false
   },
   "outputs": [
    {
     "name": "stdout",
     "output_type": "stream",
     "text": [
      "data { \n",
      "  int<lower=1> J; // Number of groups \n",
      "  int<lower=1> Q; // Number of group-level predictors \n",
      "  int<lower=1> N; // Number of individuals \n",
      "  int<lower=1> P; // Number of individual-level predictors \n",
      "  int<lower=1, upper=J> g[N]; // Grouping \n",
      "  matrix[N, P] X; // Individual predictors \n",
      "  matrix[J, Q] U; // Group predictors \n",
      "  vector[N] Y;    // Responses \n",
      "} \n",
      " \n",
      "parameters { \n",
      "  real<lower=0> sigma;    // Observation error \n",
      "  matrix[Q, P] gamma;     // Group-level coefficients \n",
      "  matrix[P, J] Z;         // Z will be used later to build Beta \n",
      "  vector<lower=0>[P] tau; // Prior scale \n",
      "  cholesky_factor_corr[P] Omega_chol; // Cholesky decomposition of Omega \n",
      "} \n",
      " \n",
      "transformed parameters { \n",
      "  matrix[J, P] Beta;  // Individual-level coefficients \n",
      "  Beta = U * gamma + (diag_pre_multiply(tau,Omega_chol) * Z)'; \n",
      "} \n",
      " \n",
      "model { \n",
      "  to_vector(Z) ~ normal(0, 1); \n",
      "  Omega_chol ~ lkj_corr_cholesky(2); \n",
      "  to_vector(gamma) ~ normal(0, 5); \n",
      "  Y ~ normal(rows_dot_product(Beta[g] , X),sigma); \n",
      "} \n"
     ]
    }
   ],
   "source": [
    "file_path <- \"HierarchicalRegression.stan\";\n",
    "lines <- readLines(file_path, encoding=\"ASCII\");\n",
    "for (n in 1:length(lines)) cat(lines[n],'\\n');"
   ]
  },
  {
   "cell_type": "markdown",
   "metadata": {},
   "source": [
    "Now, we are ready to fit the model using the stan function from the library rstan. We run 2 chains of MCMC, each with 1000 iterations (the first 500 iterations of each chain are for warmup). While running, the stan function prints some information about the status of the MCMC; we omit these information in this notebook for brevity. "
   ]
  },
  {
   "cell_type": "code",
   "execution_count": null,
   "metadata": {
    "collapsed": false,
    "scrolled": true
   },
   "outputs": [],
   "source": [
    "library(\"rstan\")\n",
    "fit <- stan(\"HierarchicalRegression.stan\", data=c(\"J\",\"Q\",\"N\",\"P\", \"g\", \"X\",\"U\",\"Y\"), \n",
    "            control=list(adapt_delta=0.9, stepsize=0.005), chains=2, iter=1000, seed=1234);"
   ]
  },
  {
   "cell_type": "code",
   "execution_count": 14,
   "metadata": {
    "collapsed": false
   },
   "outputs": [
    {
     "name": "stdout",
     "output_type": "stream",
     "text": [
      "Inference for Stan model: HierarchicalRegression.\n",
      "2 chains, each with iter=1000; warmup=500; thin=1; \n",
      "post-warmup draws per chain=500, total post-warmup draws=1000.\n",
      "\n",
      "                    mean se_mean   sd     2.5%      25%      50%      75%    97.5% n_eff Rhat\n",
      "sigma               5.14    0.00 0.11     4.93     5.07     5.14     5.22     5.36  1000 1.00\n",
      "gamma[1,1]          0.23    0.05 1.60    -2.95    -0.81     0.21     1.28     3.37  1000 1.00\n",
      "gamma[1,2]          1.94    0.08 1.99    -2.22     0.63     1.98     3.17     5.90   661 1.00\n",
      "gamma[1,3]         -0.58    0.07 1.96    -4.39    -1.91    -0.56     0.66     3.26   855 1.00\n",
      "gamma[1,4]          3.67    0.09 2.38    -1.09     2.07     3.61     5.35     8.38   719 1.00\n",
      "gamma[2,1]          4.65    0.01 0.35     3.95     4.42     4.66     4.88     5.36  1000 1.00\n",
      "gamma[2,2]         -2.39    0.02 0.48    -3.38    -2.69    -2.39    -2.09    -1.45   536 1.00\n",
      "gamma[2,3]         -5.68    0.02 0.53    -6.76    -6.00    -5.69    -5.36    -4.60   598 1.01\n",
      "gamma[2,4]          8.26    0.02 0.59     7.07     7.88     8.28     8.66     9.38   766 1.00\n",
      "gamma[3,1]         -6.18    0.01 0.38    -6.91    -6.44    -6.18    -5.93    -5.42  1000 1.00\n",
      "gamma[3,2]         -3.12    0.02 0.53    -4.14    -3.47    -3.12    -2.78    -2.06   626 1.00\n",
      "gamma[3,3]          0.33    0.02 0.51    -0.63     0.01     0.31     0.65     1.39   644 1.00\n",
      "gamma[3,4]          2.27    0.02 0.67     1.06     1.82     2.24     2.70     3.60   828 1.00\n",
      "gamma[4,1]         -1.73    0.01 0.41    -2.54    -2.02    -1.74    -1.45    -0.93  1000 1.00\n",
      "gamma[4,2]          5.59    0.02 0.57     4.46     5.21     5.58     5.97     6.67   637 1.00\n",
      "gamma[4,3]          2.52    0.02 0.58     1.41     2.12     2.52     2.89     3.70   739 1.00\n",
      "gamma[4,4]          3.22    0.02 0.71     1.87     2.74     3.25     3.68     4.66   807 1.00\n",
      "Z[1,1]             -0.17    0.05 1.08    -2.23    -0.88    -0.20     0.53     1.99   383 1.00\n",
      "Z[1,2]             -0.24    0.06 1.08    -2.37    -1.00    -0.24     0.53     1.80   349 1.00\n",
      "Z[1,3]              0.00    0.04 0.96    -1.80    -0.66    -0.05     0.64     1.86   542 1.00\n",
      "Z[1,4]             -0.13    0.04 0.94    -1.90    -0.79    -0.14     0.48     1.71   453 1.00\n",
      "Z[1,5]              0.36    0.03 1.00    -1.56    -0.31     0.35     1.02     2.36  1000 1.00\n",
      "Z[1,6]              0.31    0.05 0.99    -1.72    -0.41     0.33     1.04     2.11   326 1.00\n",
      "Z[1,7]             -0.07    0.03 0.91    -1.76    -0.69    -0.05     0.53     1.80  1000 1.00\n",
      "Z[1,8]              0.27    0.03 0.88    -1.47    -0.32     0.29     0.89     1.97  1000 1.00\n",
      "Z[1,9]              0.11    0.06 1.07    -1.96    -0.66     0.10     0.81     2.15   300 1.00\n",
      "Z[1,10]             0.49    0.05 0.97    -1.48    -0.14     0.53     1.16     2.23   390 1.00\n",
      "Z[1,11]             0.05    0.03 0.79    -1.50    -0.49     0.07     0.58     1.65  1000 1.00\n",
      "Z[1,12]            -0.26    0.05 0.96    -2.26    -0.90    -0.27     0.38     1.65   425 1.00\n",
      "Z[1,13]            -0.05    0.03 0.93    -1.85    -0.65    -0.05     0.54     1.84  1000 1.00\n",
      "Z[1,14]             0.30    0.04 0.89    -1.64    -0.26     0.29     0.94     1.96   410 1.00\n",
      "Z[1,15]            -0.45    0.04 0.91    -2.00    -1.11    -0.51     0.14     1.45   413 1.00\n",
      "Z[1,16]            -0.04    0.03 0.84    -1.64    -0.62    -0.03     0.53     1.58  1000 1.00\n",
      "Z[1,17]             0.07    0.04 0.90    -1.72    -0.53     0.08     0.71     1.72   419 1.00\n",
      "Z[1,18]            -0.17    0.03 0.93    -2.00    -0.76    -0.22     0.41     1.74  1000 1.00\n",
      "Z[1,19]            -0.17    0.02 0.77    -1.66    -0.66    -0.15     0.34     1.28  1000 1.00\n",
      "Z[1,20]            -0.18    0.04 0.94    -1.94    -0.83    -0.22     0.44     1.64   470 1.00\n",
      "Z[2,1]             -0.82    0.03 0.68    -2.18    -1.26    -0.81    -0.37     0.54   741 1.00\n",
      "Z[2,2]             -1.56    0.02 0.61    -2.65    -1.99    -1.57    -1.15    -0.27   683 1.00\n",
      "Z[2,3]              1.15    0.02 0.61    -0.06     0.76     1.14     1.54     2.38   778 1.00\n",
      "Z[2,4]              0.46    0.02 0.61    -0.81     0.08     0.47     0.86     1.67   764 1.00\n",
      "Z[2,5]             -1.07    0.03 0.76    -2.51    -1.60    -1.08    -0.57     0.43   803 1.01\n",
      "Z[2,6]              0.40    0.02 0.57    -0.73     0.04     0.39     0.76     1.58   549 1.00\n",
      "Z[2,7]              0.85    0.02 0.58    -0.31     0.47     0.85     1.24     1.95   658 1.00\n",
      "Z[2,8]             -0.77    0.02 0.63    -2.01    -1.20    -0.74    -0.36     0.44   683 1.00\n",
      "Z[2,9]             -0.36    0.02 0.66    -1.63    -0.78    -0.35     0.05     0.91   744 1.00\n",
      "Z[2,10]             0.25    0.03 0.64    -1.08    -0.14     0.28     0.68     1.45   480 1.01\n",
      "Z[2,11]             0.24    0.02 0.62    -0.97    -0.16     0.25     0.65     1.42   729 1.00\n",
      "Z[2,12]             0.12    0.03 0.64    -1.18    -0.29     0.10     0.54     1.35   614 1.00\n",
      "Z[2,13]             0.32    0.02 0.63    -0.87    -0.09     0.32     0.73     1.58   789 1.00\n",
      "Z[2,14]             0.55    0.02 0.54    -0.48     0.22     0.55     0.92     1.61   778 1.00\n",
      "Z[2,15]             0.72    0.02 0.57    -0.44     0.35     0.74     1.09     1.83   611 1.00\n",
      "Z[2,16]            -0.46    0.02 0.56    -1.61    -0.85    -0.44    -0.08     0.64   771 1.00\n",
      "Z[2,17]             0.45    0.02 0.56    -0.70     0.09     0.46     0.84     1.49  1000 1.00\n",
      "Z[2,18]             0.72    0.03 0.76    -0.76     0.20     0.69     1.25     2.19   895 1.00\n",
      "Z[2,19]            -0.15    0.02 0.60    -1.27    -0.55    -0.17     0.23     1.12   789 1.00\n",
      "Z[2,20]            -0.85    0.02 0.58    -1.95    -1.23    -0.86    -0.47     0.27   963 1.00\n",
      "Z[3,1]             -0.26    0.03 0.76    -1.82    -0.72    -0.29     0.23     1.28   707 1.00\n",
      "Z[3,2]             -0.55    0.02 0.74    -2.07    -1.02    -0.58    -0.04     0.84  1000 1.00\n",
      "Z[3,3]             -0.25    0.02 0.68    -1.62    -0.71    -0.21     0.20     1.03  1000 1.00\n",
      "Z[3,4]              0.41    0.03 0.68    -0.84    -0.06     0.39     0.85     1.82   600 1.00\n",
      "Z[3,5]              0.60    0.03 0.82    -1.16     0.06     0.62     1.18     2.07  1000 1.00\n",
      "Z[3,6]              0.29    0.03 0.70    -1.15    -0.15     0.31     0.76     1.65   512 1.00\n",
      "Z[3,7]              0.08    0.02 0.64    -1.15    -0.36     0.08     0.50     1.37  1000 1.00\n",
      "Z[3,8]              0.63    0.02 0.72    -0.90     0.20     0.66     1.09     1.97  1000 1.00\n",
      "Z[3,9]              0.76    0.04 0.76    -0.82     0.27     0.78     1.27     2.30   456 1.00\n",
      "Z[3,10]             1.37    0.02 0.71    -0.10     0.94     1.38     1.83     2.71  1000 1.00\n",
      "Z[3,11]             0.11    0.02 0.66    -1.19    -0.31     0.10     0.56     1.38  1000 1.00\n",
      "Z[3,12]            -1.42    0.02 0.71    -2.73    -1.92    -1.42    -0.99     0.06  1000 1.00\n",
      "Z[3,13]            -0.50    0.02 0.71    -1.96    -0.97    -0.43    -0.05     0.76  1000 1.00\n",
      "Z[3,14]             0.99    0.02 0.61    -0.26     0.62     1.01     1.40     2.12  1000 1.00\n",
      "Z[3,15]            -1.08    0.02 0.61    -2.29    -1.47    -1.08    -0.69     0.10  1000 1.00\n",
      "Z[3,16]             0.09    0.03 0.64    -1.06    -0.31     0.09     0.49     1.38   576 1.00\n",
      "Z[3,17]             0.38    0.02 0.64    -1.02    -0.02     0.43     0.80     1.59  1000 1.00\n",
      "Z[3,18]            -0.50    0.02 0.78    -2.06    -1.01    -0.52     0.01     1.03  1000 1.01\n",
      "Z[3,19]            -0.32    0.02 0.62    -1.49    -0.74    -0.29     0.10     0.85  1000 1.00\n",
      "Z[3,20]            -1.01    0.02 0.67    -2.28    -1.47    -1.02    -0.60     0.42  1000 1.00\n",
      "Z[4,1]              1.13    0.02 0.74    -0.30     0.65     1.15     1.61     2.54  1000 1.00\n",
      "Z[4,2]             -0.80    0.02 0.74    -2.21    -1.29    -0.82    -0.31     0.72  1000 1.00\n",
      "Z[4,3]             -0.22    0.02 0.73    -1.69    -0.71    -0.20     0.25     1.17   995 1.00\n",
      "Z[4,4]              0.91    0.02 0.69    -0.48     0.50     0.93     1.38     2.19  1000 1.00\n",
      "Z[4,5]              0.39    0.03 0.82    -1.29    -0.12     0.38     0.94     1.93  1000 1.00\n",
      "Z[4,6]              1.39    0.03 0.72    -0.15     0.94     1.44     1.87     2.69   789 1.00\n",
      "Z[4,7]              0.30    0.02 0.71    -1.19    -0.16     0.33     0.78     1.67  1000 1.00\n",
      "Z[4,8]             -0.38    0.02 0.69    -1.75    -0.85    -0.39     0.06     0.98  1000 1.00\n",
      "Z[4,9]             -1.58    0.03 0.77    -3.10    -2.09    -1.62    -1.08     0.01   656 1.00\n",
      "Z[4,10]             0.72    0.02 0.69    -0.65     0.24     0.74     1.21     2.02  1000 1.00\n",
      "Z[4,11]            -0.06    0.02 0.70    -1.35    -0.49    -0.08     0.40     1.34  1000 1.00\n",
      "Z[4,12]            -0.21    0.02 0.73    -1.65    -0.70    -0.23     0.27     1.33  1000 1.00\n",
      "Z[4,13]            -0.12    0.02 0.67    -1.33    -0.59    -0.12     0.32     1.28  1000 1.00\n",
      "Z[4,14]             0.37    0.02 0.64    -0.95    -0.03     0.38     0.82     1.51  1000 1.00\n",
      "Z[4,15]             0.02    0.02 0.64    -1.20    -0.40     0.00     0.45     1.31  1000 1.00\n",
      "Z[4,16]            -0.73    0.02 0.67    -1.99    -1.17    -0.75    -0.30     0.58  1000 1.00\n",
      "Z[4,17]            -0.97    0.02 0.71    -2.30    -1.44    -0.99    -0.55     0.56  1000 1.00\n",
      "Z[4,18]            -0.11    0.03 0.81    -1.66    -0.69    -0.11     0.45     1.44  1000 1.00\n",
      "Z[4,19]             0.18    0.02 0.64    -1.11    -0.22     0.18     0.57     1.44  1000 1.00\n",
      "Z[4,20]             0.49    0.02 0.64    -0.79     0.08     0.49     0.91     1.71  1000 1.00\n",
      "tau[1]              0.74    0.02 0.56     0.03     0.29     0.64     1.07     2.05   787 1.00\n",
      "tau[2]              3.04    0.03 0.66     2.01     2.54     2.97     3.45     4.57   493 1.00\n",
      "tau[3]              3.21    0.03 0.72     2.04     2.74     3.11     3.62     4.81   605 1.00\n",
      "tau[4]              4.07    0.03 0.85     2.77     3.47     3.97     4.56     5.98   663 1.00\n",
      "Omega_chol[1,1]     1.00    0.00 0.00     1.00     1.00     1.00     1.00     1.00  1000  NaN\n",
      "Omega_chol[1,2]     0.00    0.00 0.00     0.00     0.00     0.00     0.00     0.00  1000  NaN\n",
      "Omega_chol[1,3]     0.00    0.00 0.00     0.00     0.00     0.00     0.00     0.00  1000  NaN\n",
      "Omega_chol[1,4]     0.00    0.00 0.00     0.00     0.00     0.00     0.00     0.00  1000  NaN\n",
      "Omega_chol[2,1]    -0.06    0.03 0.36    -0.72    -0.33    -0.06     0.20     0.63   191 1.00\n",
      "Omega_chol[2,2]     0.93    0.00 0.09     0.68     0.90     0.96     0.99     1.00   405 1.01\n",
      "Omega_chol[2,3]     0.00    0.00 0.00     0.00     0.00     0.00     0.00     0.00  1000  NaN\n",
      "Omega_chol[2,4]     0.00    0.00 0.00     0.00     0.00     0.00     0.00     0.00  1000  NaN\n",
      "Omega_chol[3,1]     0.15    0.03 0.36    -0.60    -0.09     0.17     0.43     0.78   193 1.00\n",
      "Omega_chol[3,2]    -0.05    0.01 0.28    -0.58    -0.26    -0.06     0.15     0.51   449 1.00\n",
      "Omega_chol[3,3]     0.87    0.01 0.12     0.53     0.81     0.91     0.96     1.00   444 1.01\n",
      "Omega_chol[3,4]     0.00    0.00 0.00     0.00     0.00     0.00     0.00     0.00  1000  NaN\n",
      "Omega_chol[4,1]     0.01    0.03 0.38    -0.71    -0.28     0.03     0.30     0.72   159 1.00\n",
      "Omega_chol[4,2]     0.12    0.01 0.26    -0.41    -0.06     0.13     0.31     0.59   403 1.00\n",
      "Omega_chol[4,3]     0.06    0.02 0.28    -0.51    -0.12     0.07     0.25     0.57   277 1.00\n",
      "Omega_chol[4,4]     0.82    0.01 0.15     0.44     0.75     0.85     0.93     0.99   354 1.00\n",
      "Beta[1,1]           5.04    0.04 1.40     2.11     4.13     5.05     5.98     7.93  1000 1.00\n",
      "Beta[1,2]           1.80    0.04 1.19    -0.53     0.97     1.83     2.62     4.17  1000 1.00\n",
      "Beta[1,3]         -19.43    0.04 1.18   -21.83   -20.18   -19.43   -18.61   -17.30  1000 1.00\n",
      "Beta[1,4]          63.76    0.04 1.18    61.47    62.94    63.75    64.54    66.01  1000 1.00\n",
      "Beta[2,1]         -22.45    0.04 1.19   -24.84   -23.24   -22.44   -21.64   -20.20   710 1.00\n",
      "Beta[2,2]          -4.53    0.03 1.07    -6.63    -5.24    -4.55    -3.80    -2.35  1000 1.00\n",
      "Beta[2,3]          -6.49    0.03 1.01    -8.51    -7.18    -6.49    -5.83    -4.55  1000 1.00\n",
      "Beta[2,4]          41.02    0.04 1.33    38.39    40.20    41.01    41.88    43.74  1000 1.00\n",
      "Beta[3,1]         -21.30    0.04 1.17   -23.63   -22.10   -21.34   -20.52   -19.05  1000 1.00\n",
      "Beta[3,2]          19.04    0.03 1.08    16.99    18.33    19.02    19.75    21.19  1000 1.00\n",
      "Beta[3,3]           6.35    0.03 1.09     4.06     5.66     6.35     7.12     8.39  1000 1.00\n",
      "Beta[3,4]          28.53    0.04 1.15    26.27    27.76    28.53    29.32    30.72  1000 1.00\n",
      "Beta[4,1]         -10.79    0.04 1.24   -13.23   -11.59   -10.77    -9.95    -8.30  1000 1.00\n",
      "Beta[4,2]           2.10    0.04 1.21    -0.19     1.25     2.12     2.97     4.39  1000 1.00\n",
      "Beta[4,3]           2.47    0.03 1.08     0.37     1.72     2.48     3.20     4.62  1000 1.00\n",
      "Beta[4,4]          14.19    0.04 1.15    11.90    13.41    14.20    14.95    16.34  1000 1.00\n",
      "Beta[5,1]         -11.05    0.04 1.40   -13.73   -11.99   -11.09   -10.12    -8.30  1000 1.00\n",
      "Beta[5,2]          21.17    0.04 1.15    18.76    20.49    21.23    21.92    23.34  1000 1.00\n",
      "Beta[5,3]          11.55    0.03 1.09     9.37    10.82    11.53    12.31    13.64  1000 1.00\n",
      "Beta[5,4]          25.69    0.04 1.19    23.19    24.90    25.67    26.48    27.99  1000 1.00\n",
      "Beta[6,1]         -20.16    0.05 1.08   -22.10   -20.86   -20.29   -19.53   -17.67   551 1.00\n",
      "Beta[6,2]           0.66    0.04 1.12    -1.40    -0.12     0.63     1.45     2.89  1000 1.00\n",
      "Beta[6,3]           1.71    0.03 1.09    -0.50     1.03     1.72     2.39     3.86  1000 1.00\n",
      "Beta[6,4]          30.28    0.04 1.20    27.88    29.46    30.35    31.08    32.59  1000 1.00\n",
      "Beta[7,1]         -25.01    0.04 1.21   -27.57   -25.75   -24.98   -24.19   -22.80  1000 1.00\n",
      "Beta[7,2]           8.68    0.03 1.00     6.74     8.01     8.65     9.35    10.64  1000 1.00\n",
      "Beta[7,3]           0.55    0.03 1.02    -1.38    -0.14     0.54     1.22     2.57  1000 1.00\n",
      "Beta[7,4]          42.70    0.03 1.04    40.58    42.02    42.70    43.38    44.83  1000 1.01\n",
      "Beta[8,1]          -7.41    0.04 1.25    -9.76    -8.25    -7.43    -6.62    -4.90  1000 1.00\n",
      "Beta[8,2]         -12.13    0.04 1.25   -14.56   -12.97   -12.11   -11.29    -9.73  1000 1.00\n",
      "Beta[8,3]         -18.24    0.04 1.14   -20.43   -19.04   -18.25   -17.48   -15.96  1000 1.00\n",
      "Beta[8,4]          58.73    0.03 1.05    56.61    58.07    58.71    59.41    60.81  1000 1.00\n",
      "Beta[9,1]          -5.65    0.04 1.30    -8.22    -6.50    -5.61    -4.78    -3.33  1000 1.00\n",
      "Beta[9,2]           9.28    0.03 1.05     7.20     8.61     9.28     9.99    11.37  1000 1.00\n",
      "Beta[9,3]           6.52    0.05 1.32     4.01     5.63     6.51     7.43     9.09   686 1.00\n",
      "Beta[9,4]           4.14    0.04 1.16     1.99     3.34     4.13     4.89     6.41  1000 1.00\n",
      "Beta[10,1]        -10.03    0.04 1.28   -12.37   -10.88   -10.14    -9.20    -7.24  1000 1.00\n",
      "Beta[10,2]         -9.81    0.03 1.05   -11.88   -10.53    -9.81    -9.13    -7.66  1000 1.00\n",
      "Beta[10,3]        -11.73    0.04 1.25   -14.19   -12.59   -11.69   -10.86    -9.38  1000 1.00\n",
      "Beta[10,4]         53.18    0.04 1.13    50.94    52.42    53.21    53.92    55.42   980 1.00\n",
      "Beta[11,1]        -12.84    0.04 1.25   -15.25   -13.72   -12.85   -11.99   -10.48  1000 1.00\n",
      "Beta[11,2]         -0.78    0.03 1.00    -2.77    -1.42    -0.75    -0.14     1.23  1000 1.00\n",
      "Beta[11,3]        -16.24    0.03 0.97   -18.17   -16.85   -16.25   -15.64   -14.20  1000 1.00\n",
      "Beta[11,4]         67.72    0.03 1.02    65.91    66.98    67.74    68.38    69.67  1000 1.00\n",
      "Beta[12,1]         -3.80    0.04 1.34    -6.43    -4.66    -3.78    -2.88    -1.14  1000 1.00\n",
      "Beta[12,2]         -3.07    0.03 1.08    -5.25    -3.76    -3.09    -2.33    -1.06  1000 1.00\n",
      "Beta[12,3]        -11.55    0.04 1.19   -13.82   -12.37   -11.53   -10.73    -9.19  1000 1.00\n",
      "Beta[12,4]         18.94    0.03 0.99    16.87    18.28    18.98    19.61    20.86  1000 1.00\n",
      "Beta[13,1]         -1.56    0.04 1.21    -3.80    -2.39    -1.55    -0.75     0.87  1000 1.00\n",
      "Beta[13,2]        -10.11    0.04 1.11   -12.37   -10.86   -10.09    -9.37    -7.98  1000 1.00\n",
      "Beta[13,3]        -21.32    0.04 1.18   -23.65   -22.14   -21.29   -20.48   -19.07  1000 1.00\n",
      "Beta[13,4]         46.56    0.03 1.04    44.51    45.88    46.55    47.22    48.60  1000 1.00\n",
      "Beta[14,1]         -7.45    0.03 1.01    -9.40    -8.12    -7.47    -6.81    -5.28  1000 1.00\n",
      "Beta[14,2]          5.76    0.03 0.98     3.92     5.09     5.75     6.39     7.79  1000 1.00\n",
      "Beta[14,3]          1.37    0.03 1.05    -0.64     0.67     1.33     2.11     3.44  1000 1.00\n",
      "Beta[14,4]         24.59    0.04 1.18    22.36    23.78    24.55    25.36    26.86  1000 1.00\n",
      "Beta[15,1]        -15.72    0.04 1.01   -17.93   -16.30   -15.60   -15.02   -14.02   698 1.00\n",
      "Beta[15,2]          5.57    0.04 1.11     3.33     4.82     5.54     6.31     7.83  1000 1.00\n",
      "Beta[15,3]         -8.92    0.03 1.07   -10.98    -9.65    -8.93    -8.24    -6.71  1000 1.00\n",
      "Beta[15,4]         41.48    0.04 1.15    39.18    40.71    41.50    42.23    43.69  1000 1.00\n",
      "Beta[16,1]        -27.51    0.03 1.11   -29.77   -28.21   -27.49   -26.78   -25.37  1000 1.00\n",
      "Beta[16,2]         -1.71    0.03 1.04    -3.72    -2.40    -1.67    -1.02     0.40  1000 1.00\n",
      "Beta[16,3]          0.64    0.03 1.10    -1.48    -0.12     0.65     1.41     2.75  1000 1.00\n",
      "Beta[16,4]         31.48    0.04 1.12    29.29    30.71    31.47    32.22    33.72  1000 1.00\n",
      "Beta[17,1]        -14.29    0.03 1.07   -16.31   -14.97   -14.29   -13.60   -12.23  1000 1.00\n",
      "Beta[17,2]         -7.64    0.04 1.17    -9.94    -8.45    -7.62    -6.81    -5.40  1000 1.00\n",
      "Beta[17,3]        -10.58    0.04 1.12   -12.75   -11.33   -10.59    -9.84    -8.50  1000 1.00\n",
      "Beta[17,4]         38.23    0.04 1.14    36.12    37.49    38.20    39.01    40.44  1000 1.00\n",
      "Beta[18,1]         11.91    0.05 1.65     8.64    10.80    11.93    12.96    15.20  1000 1.00\n",
      "Beta[18,2]         17.23    0.03 1.00    15.27    16.58    17.20    17.87    19.23  1000 1.00\n",
      "Beta[18,3]        -16.91    0.03 1.04   -18.85   -17.66   -16.92   -16.19   -14.79  1000 1.00\n",
      "Beta[18,4]         55.63    0.03 1.06    53.42    54.93    55.60    56.35    57.63  1000 1.00\n",
      "Beta[19,1]        -29.13    0.04 1.15   -31.56   -29.88   -29.08   -28.33   -26.87  1000 1.00\n",
      "Beta[19,2]         -3.20    0.03 1.03    -5.35    -3.89    -3.21    -2.51    -1.27  1000 1.00\n",
      "Beta[19,3]          0.44    0.03 1.03    -1.49    -0.28     0.45     1.16     2.45  1000 1.00\n",
      "Beta[19,4]         29.29    0.04 1.28    26.74    28.47    29.24    30.13    31.84  1000 1.00\n",
      "Beta[20,1]        -17.60    0.04 1.20   -20.16   -18.30   -17.58   -16.89   -15.33  1000 1.01\n",
      "Beta[20,2]         -6.13    0.03 1.05    -8.21    -6.80    -6.18    -5.45    -3.93  1000 1.00\n",
      "Beta[20,3]         -2.79    0.03 1.10    -4.92    -3.52    -2.74    -2.06    -0.67  1000 1.00\n",
      "Beta[20,4]         16.73    0.04 1.16    14.28    15.92    16.79    17.48    19.05  1000 1.00\n",
      "lp__            -2178.95    0.57 8.99 -2197.02 -2184.79 -2178.81 -2173.12 -2160.67   250 1.00\n",
      "\n",
      "Samples were drawn using NUTS(diag_e) at Mon Oct 17 14:35:09 2016.\n",
      "For each parameter, n_eff is a crude measure of effective sample size,\n",
      "and Rhat is the potential scale reduction factor on split chains (at \n",
      "convergence, Rhat=1).\n"
     ]
    }
   ],
   "source": [
    "options(width=\"100\");\n",
    "print(fit,digits=2);"
   ]
  },
  {
   "cell_type": "code",
   "execution_count": 5,
   "metadata": {
    "collapsed": true
   },
   "outputs": [],
   "source": [
    "mod_fit <- extract(fit)\n",
    "n_sims <- length(mod_fit$lp__)\n",
    "Yrep <- array(NA, c(n_sims, N))\n",
    "for (s in 1:n_sims)\n",
    "  Yrep[s,] <- rnorm(N,rowSums(X * mod_fit$Beta[s, g,]), mod_fit$sigma[s])  "
   ]
  },
  {
   "cell_type": "code",
   "execution_count": 24,
   "metadata": {
    "collapsed": false
   },
   "outputs": [],
   "source": [
    "library(bayesplot)"
   ]
  },
  {
   "cell_type": "code",
   "execution_count": 36,
   "metadata": {
    "collapsed": false
   },
   "outputs": [
    {
     "data": {
      "image/png": "[encoded data removed]",
      "text/plain": [
       "plot without title"
      ]
     },
     "metadata": {},
     "output_type": "display_data"
    }
   ],
   "source": [
    "library(\"ggplot2\")\n",
    "library(\"cowplot\")\n",
    "library(\"grid\")\n",
    "\n",
    "plot1 <- ppc_stat(Y, Yrep, stat = \"mean\",binwidth = 0.05) + \n",
    "  ggtitle(\"Model M1, mean\") \n",
    "plot2 <- ppc_stat(Y, Yrep, stat = \"sd\", binwidth = 0.05) + \n",
    "  ggtitle(\"Model M1, sd\") \n",
    "plots <- list(plot1, plot2)\n",
    "grobs <- lapply(plots, ggplotGrob)\n",
    "g <-  do.call(gridExtra::rbind.gtable, grobs)\n",
    "grid.newpage()\n",
    "grid.draw(g)"
   ]
  },
  {
   "cell_type": "code",
   "execution_count": 42,
   "metadata": {
    "collapsed": false
   },
   "outputs": [
    {
     "data": {},
     "metadata": {},
     "output_type": "display_data"
    },
    {
     "data": {
      "image/png": "[encoded data removed]",
      "text/plain": [
       "plot without title"
      ]
     },
     "metadata": {},
     "output_type": "display_data"
    }
   ],
   "source": [
    "ppc_stat_grouped(Y, Yrep, group = g, stat = \"mean\", binwidth = 0.05) + \n",
    "  ggtitle(\"Model M1, mean\") "
   ]
  },
  {
   "cell_type": "code",
   "execution_count": null,
   "metadata": {
    "collapsed": true
   },
   "outputs": [],
   "source": []
  }
 ],
 "metadata": {
  "anaconda-cloud": {},
  "kernelspec": {
   "display_name": "R",
   "language": "R",
   "name": "ir"
  },
  "language_info": {
   "codemirror_mode": "r",
   "file_extension": ".r",
   "mimetype": "text/x-r-source",
   "name": "R",
   "pygments_lexer": "r",
   "version": "3.3.1"
  }
 },
 "nbformat": 4,
 "nbformat_minor": 1
}
